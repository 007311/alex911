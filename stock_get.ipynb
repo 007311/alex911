{
 "metadata": {
  "language_info": {
   "codemirror_mode": {
    "name": "ipython",
    "version": 3
   },
   "file_extension": ".py",
   "mimetype": "text/x-python",
   "name": "python",
   "nbconvert_exporter": "python",
   "pygments_lexer": "ipython3",
   "version": "3.9.0-final"
  },
  "orig_nbformat": 2,
  "kernelspec": {
   "name": "python3",
   "display_name": "Python 3",
   "language": "python"
  }
 },
 "nbformat": 4,
 "nbformat_minor": 2,
 "cells": [
  {
   "cell_type": "code",
   "execution_count": 5,
   "metadata": {},
   "outputs": [
    {
     "output_type": "execute_result",
     "data": {
      "text/plain": [
       "0         True\n",
       "1         True\n",
       "2         True\n",
       "3         True\n",
       "4         True\n",
       "         ...  \n",
       "21311    False\n",
       "21312     True\n",
       "21313     True\n",
       "21314     True\n",
       "21315    False\n",
       "Name: 本益比, Length: 21316, dtype: bool"
      ]
     },
     "metadata": {},
     "execution_count": 5
    }
   ],
   "source": [
    "import requests\n",
    "from io import StringIO\n",
    "import pandas as pd\n",
    "import numpy as np\n",
    "\n",
    "datestr = '20210205'\n",
    "\n",
    "# 下載股價\n",
    "r = requests.post('https://www.twse.com.tw/exchangeReport/MI_INDEX?response=csv&date=' + datestr + '&type=ALLBUT0999')\n",
    "\n",
    "# 整理資料，變成表格\n",
    "df = pd.read_csv(StringIO(r.text.replace(\"=\", \"\")), \n",
    "            header=[\"證券代號\" in l for l in r.text.split(\"\\n\")].index(True)-1)\n",
    "\n",
    "# 整理一些字串：\n",
    "df = df.apply(lambda s: pd.to_numeric(s.astype(str).str.replace(\",\", \"\").replace(\"+\", \"1\").replace(\"-\", \"-1\"), errors='coerce'))\n",
    "\n",
    "# 顯示出來\n",
    "df.head()\n"
   ]
  },
  {
   "cell_type": "code",
   "execution_count": 6,
   "metadata": {},
   "outputs": [
    {
     "output_type": "execute_result",
     "data": {
      "text/plain": [
       "         證券代號  證券名稱      成交股數   成交筆數        成交金額     開盤價     最高價     最低價  \\\n",
       "0        50.0   NaN  24714046  26235  3413371452  138.20  139.00  135.00   \n",
       "1        51.0   NaN     73357     50     3299870   44.62   45.39   44.62   \n",
       "2        52.0   NaN   2937391   2815   395644367  132.75  136.00  132.40   \n",
       "3        53.0   NaN     78166     63     5285440   67.20   68.00   67.20   \n",
       "4        54.0   NaN     27000      9      821820   30.32   30.54   30.32   \n",
       "...       ...   ...       ...    ...         ...     ...     ...     ...   \n",
       "21308     NaN   NaN     18000     12      908700   50.40   50.60   50.30   \n",
       "21310  9943.0   NaN    174644    145    10592145   60.60   61.00   60.40   \n",
       "21312  9945.0   NaN   2781818   1503   109827512   39.50   39.60   39.35   \n",
       "21313  9946.0   NaN    429326    284     6094124   14.55   14.55   14.05   \n",
       "21314  9955.0   NaN    347569    251     6251621   18.00   18.25   17.80   \n",
       "\n",
       "          收盤價  漲跌(+/-)  漲跌價差  最後揭示買價  最後揭示買量  最後揭示賣價  最後揭示賣量    本益比  \\\n",
       "0      137.45      NaN  0.00  137.45      78  137.50     153   0.00   \n",
       "1       45.39      1.0  0.77   45.39       4   45.40       7   0.00   \n",
       "2      135.90     -1.0  0.55  135.90       1  135.95       3   0.00   \n",
       "3       67.50     -1.0  0.80   67.45       1   67.85       1   0.00   \n",
       "4       30.54      1.0  0.27   30.49      56   30.58       1   0.00   \n",
       "...       ...      ...   ...     ...     ...     ...     ...    ...   \n",
       "21308   50.60      NaN  0.00   50.30      14   50.60      34   0.00   \n",
       "21310   60.80      1.0  0.10   60.80       8   61.00       2  14.37   \n",
       "21312   39.60      1.0  0.10   39.60      92   39.65      25   8.57   \n",
       "21313   14.15     -1.0  0.30   14.15      22   14.20       2   8.09   \n",
       "21314   18.00      NaN  0.00   18.00       6   18.05       7   0.00   \n",
       "\n",
       "       Unnamed: 16  \n",
       "0              NaN  \n",
       "1              NaN  \n",
       "2              NaN  \n",
       "3              NaN  \n",
       "4              NaN  \n",
       "...            ...  \n",
       "21308          NaN  \n",
       "21310          NaN  \n",
       "21312          NaN  \n",
       "21313          NaN  \n",
       "21314          NaN  \n",
       "\n",
       "[6357 rows x 17 columns]"
      ],
      "text/html": "<div>\n<style scoped>\n    .dataframe tbody tr th:only-of-type {\n        vertical-align: middle;\n    }\n\n    .dataframe tbody tr th {\n        vertical-align: top;\n    }\n\n    .dataframe thead th {\n        text-align: right;\n    }\n</style>\n<table border=\"1\" class=\"dataframe\">\n  <thead>\n    <tr style=\"text-align: right;\">\n      <th></th>\n      <th>證券代號</th>\n      <th>證券名稱</th>\n      <th>成交股數</th>\n      <th>成交筆數</th>\n      <th>成交金額</th>\n      <th>開盤價</th>\n      <th>最高價</th>\n      <th>最低價</th>\n      <th>收盤價</th>\n      <th>漲跌(+/-)</th>\n      <th>漲跌價差</th>\n      <th>最後揭示買價</th>\n      <th>最後揭示買量</th>\n      <th>最後揭示賣價</th>\n      <th>最後揭示賣量</th>\n      <th>本益比</th>\n      <th>Unnamed: 16</th>\n    </tr>\n  </thead>\n  <tbody>\n    <tr>\n      <th>0</th>\n      <td>50.0</td>\n      <td>NaN</td>\n      <td>24714046</td>\n      <td>26235</td>\n      <td>3413371452</td>\n      <td>138.20</td>\n      <td>139.00</td>\n      <td>135.00</td>\n      <td>137.45</td>\n      <td>NaN</td>\n      <td>0.00</td>\n      <td>137.45</td>\n      <td>78</td>\n      <td>137.50</td>\n      <td>153</td>\n      <td>0.00</td>\n      <td>NaN</td>\n    </tr>\n    <tr>\n      <th>1</th>\n      <td>51.0</td>\n      <td>NaN</td>\n      <td>73357</td>\n      <td>50</td>\n      <td>3299870</td>\n      <td>44.62</td>\n      <td>45.39</td>\n      <td>44.62</td>\n      <td>45.39</td>\n      <td>1.0</td>\n      <td>0.77</td>\n      <td>45.39</td>\n      <td>4</td>\n      <td>45.40</td>\n      <td>7</td>\n      <td>0.00</td>\n      <td>NaN</td>\n    </tr>\n    <tr>\n      <th>2</th>\n      <td>52.0</td>\n      <td>NaN</td>\n      <td>2937391</td>\n      <td>2815</td>\n      <td>395644367</td>\n      <td>132.75</td>\n      <td>136.00</td>\n      <td>132.40</td>\n      <td>135.90</td>\n      <td>-1.0</td>\n      <td>0.55</td>\n      <td>135.90</td>\n      <td>1</td>\n      <td>135.95</td>\n      <td>3</td>\n      <td>0.00</td>\n      <td>NaN</td>\n    </tr>\n    <tr>\n      <th>3</th>\n      <td>53.0</td>\n      <td>NaN</td>\n      <td>78166</td>\n      <td>63</td>\n      <td>5285440</td>\n      <td>67.20</td>\n      <td>68.00</td>\n      <td>67.20</td>\n      <td>67.50</td>\n      <td>-1.0</td>\n      <td>0.80</td>\n      <td>67.45</td>\n      <td>1</td>\n      <td>67.85</td>\n      <td>1</td>\n      <td>0.00</td>\n      <td>NaN</td>\n    </tr>\n    <tr>\n      <th>4</th>\n      <td>54.0</td>\n      <td>NaN</td>\n      <td>27000</td>\n      <td>9</td>\n      <td>821820</td>\n      <td>30.32</td>\n      <td>30.54</td>\n      <td>30.32</td>\n      <td>30.54</td>\n      <td>1.0</td>\n      <td>0.27</td>\n      <td>30.49</td>\n      <td>56</td>\n      <td>30.58</td>\n      <td>1</td>\n      <td>0.00</td>\n      <td>NaN</td>\n    </tr>\n    <tr>\n      <th>...</th>\n      <td>...</td>\n      <td>...</td>\n      <td>...</td>\n      <td>...</td>\n      <td>...</td>\n      <td>...</td>\n      <td>...</td>\n      <td>...</td>\n      <td>...</td>\n      <td>...</td>\n      <td>...</td>\n      <td>...</td>\n      <td>...</td>\n      <td>...</td>\n      <td>...</td>\n      <td>...</td>\n      <td>...</td>\n    </tr>\n    <tr>\n      <th>21308</th>\n      <td>NaN</td>\n      <td>NaN</td>\n      <td>18000</td>\n      <td>12</td>\n      <td>908700</td>\n      <td>50.40</td>\n      <td>50.60</td>\n      <td>50.30</td>\n      <td>50.60</td>\n      <td>NaN</td>\n      <td>0.00</td>\n      <td>50.30</td>\n      <td>14</td>\n      <td>50.60</td>\n      <td>34</td>\n      <td>0.00</td>\n      <td>NaN</td>\n    </tr>\n    <tr>\n      <th>21310</th>\n      <td>9943.0</td>\n      <td>NaN</td>\n      <td>174644</td>\n      <td>145</td>\n      <td>10592145</td>\n      <td>60.60</td>\n      <td>61.00</td>\n      <td>60.40</td>\n      <td>60.80</td>\n      <td>1.0</td>\n      <td>0.10</td>\n      <td>60.80</td>\n      <td>8</td>\n      <td>61.00</td>\n      <td>2</td>\n      <td>14.37</td>\n      <td>NaN</td>\n    </tr>\n    <tr>\n      <th>21312</th>\n      <td>9945.0</td>\n      <td>NaN</td>\n      <td>2781818</td>\n      <td>1503</td>\n      <td>109827512</td>\n      <td>39.50</td>\n      <td>39.60</td>\n      <td>39.35</td>\n      <td>39.60</td>\n      <td>1.0</td>\n      <td>0.10</td>\n      <td>39.60</td>\n      <td>92</td>\n      <td>39.65</td>\n      <td>25</td>\n      <td>8.57</td>\n      <td>NaN</td>\n    </tr>\n    <tr>\n      <th>21313</th>\n      <td>9946.0</td>\n      <td>NaN</td>\n      <td>429326</td>\n      <td>284</td>\n      <td>6094124</td>\n      <td>14.55</td>\n      <td>14.55</td>\n      <td>14.05</td>\n      <td>14.15</td>\n      <td>-1.0</td>\n      <td>0.30</td>\n      <td>14.15</td>\n      <td>22</td>\n      <td>14.20</td>\n      <td>2</td>\n      <td>8.09</td>\n      <td>NaN</td>\n    </tr>\n    <tr>\n      <th>21314</th>\n      <td>9955.0</td>\n      <td>NaN</td>\n      <td>347569</td>\n      <td>251</td>\n      <td>6251621</td>\n      <td>18.00</td>\n      <td>18.25</td>\n      <td>17.80</td>\n      <td>18.00</td>\n      <td>NaN</td>\n      <td>0.00</td>\n      <td>18.00</td>\n      <td>6</td>\n      <td>18.05</td>\n      <td>7</td>\n      <td>0.00</td>\n      <td>NaN</td>\n    </tr>\n  </tbody>\n</table>\n<p>6357 rows × 17 columns</p>\n</div>"
     },
     "metadata": {},
     "execution_count": 6
    }
   ],
   "source": [
    "df[pd.to_numeric(df['本益比'], errors='coerce') < 15]"
   ]
  },
  {
   "cell_type": "code",
   "execution_count": null,
   "metadata": {},
   "outputs": [],
   "source": []
  }
 ]
}